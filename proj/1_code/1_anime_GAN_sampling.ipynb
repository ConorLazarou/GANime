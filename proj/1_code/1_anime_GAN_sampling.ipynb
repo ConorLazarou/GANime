{
 "cells": [
  {
   "cell_type": "markdown",
   "metadata": {},
   "source": [
    "# Anime GAN"
   ]
  },
  {
   "cell_type": "markdown",
   "metadata": {},
   "source": [
    "## Load Python Dependencies"
   ]
  },
  {
   "cell_type": "code",
   "execution_count": 1,
   "metadata": {},
   "outputs": [],
   "source": [
    "import numpy as np \n",
    "import matplotlib.pyplot as plt\n",
    "import sys\n",
    "from imageio import imread\n",
    "import time\n",
    "import scipy.misc\n",
    "import os"
   ]
  },
  {
   "cell_type": "markdown",
   "metadata": {},
   "source": [
    "## Load Tensorflow/Keras"
   ]
  },
  {
   "cell_type": "code",
   "execution_count": 2,
   "metadata": {},
   "outputs": [],
   "source": [
    "from tensorflow.keras.models import load_model\n",
    "import tensorflow as tf"
   ]
  },
  {
   "cell_type": "markdown",
   "metadata": {},
   "source": [
    "## Set System Settings"
   ]
  },
  {
   "cell_type": "code",
   "execution_count": 3,
   "metadata": {},
   "outputs": [],
   "source": [
    "from tensorflow import set_random_seed\n",
    "np.random.seed(69)\n",
    "set_random_seed(69)\n",
    "%matplotlib inline"
   ]
  },
  {
   "cell_type": "markdown",
   "metadata": {},
   "source": [
    "## Set Constants"
   ]
  },
  {
   "cell_type": "code",
   "execution_count": 4,
   "metadata": {},
   "outputs": [],
   "source": [
    "LATENT_DIM = 32              # Dimension of the latent space from which to sample\n",
    "IMAGE_DIM = 64                # Height and width of images"
   ]
  },
  {
   "cell_type": "markdown",
   "metadata": {},
   "source": [
    "## Paths"
   ]
  },
  {
   "cell_type": "code",
   "execution_count": 5,
   "metadata": {},
   "outputs": [],
   "source": [
    "MODEL_NAME = \"gan.anime.{}.{}.h5\"                    # Model filename\n",
    "DATA_DIR = '../0_data/anime_faces/'                  # Location of the training image files\n",
    "IMAGE_FILENAMES_FILE = '../0_data/names.txt'         # List of image file names\n",
    "PIPELINE_DIR = '../2_pipeline/1_anime_GAN_sampling/' # Where output are to be saved\n",
    "OUT_DIR = PIPELINE_DIR + 'out/'                      # output director\n",
    "STORE_DIR = PIPELINE_DIR + 'store/'                  # store directory\n",
    "TMP_DIR = PIPELINE_DIR + 'tmp/'                      # temp directory\n",
    "G_MODEL_PATH = '../2_pipeline/0_anime_GAN/out/CHECKPOINT_ANIME_GAN.G.gen00500.h5'"
   ]
  },
  {
   "cell_type": "markdown",
   "metadata": {},
   "source": [
    "## Helper Functions"
   ]
  },
  {
   "cell_type": "code",
   "execution_count": 6,
   "metadata": {},
   "outputs": [],
   "source": [
    "def make_dir_safely(dirname):\n",
    "    \"\"\"\n",
    "    Given a directory name, create that directory if it does not exist\n",
    "    \"\"\"\n",
    "    if not os.path.exists(dirname):\n",
    "        os.makedirs(dirname)\n",
    "\n",
    "def plot_images(ims, filename, random=False, lim=6):\n",
    "    \"\"\"\n",
    "    A function for plotting a series of images\n",
    "    \"\"\"\n",
    "    im_dim = ims.shape[1]\n",
    "    if len(ims) < lim**2:\n",
    "        indices = np.arange(len(ims))\n",
    "    elif random:\n",
    "        indices = np.arange(len(ims))\n",
    "        np.random.shuffle(indices)\n",
    "        indices = indices[:lim**2]\n",
    "        indices = np.random.randint(0, len(ims), lim**2)\n",
    "    else:\n",
    "        indices = np.arange(lim**2)\n",
    "\n",
    "    full_im = np.zeros((lim*im_dim, lim*im_dim, 3))\n",
    "    for index, i in enumerate(indices):\n",
    "        c, r = index % lim, index // lim\n",
    "        full_im[r*im_dim:(r+1)*im_dim, c*im_dim:(c+1)*im_dim] = ims[i, :, :, :]\n",
    "            \n",
    "    scipy.misc.toimage(full_im, cmin=0.0, cmax=1.0).save(filename)"
   ]
  },
  {
   "cell_type": "markdown",
   "metadata": {},
   "source": [
    "## Random Vector Function"
   ]
  },
  {
   "cell_type": "code",
   "execution_count": 7,
   "metadata": {},
   "outputs": [],
   "source": [
    "def get_noise(num=32, dim=LATENT_DIM):\n",
    "    \"\"\" Return a shape (num, dum) noise vector N(0, I)\"\"\"\n",
    "    return np.random.normal(0, 1, (num, dim))"
   ]
  },
  {
   "cell_type": "markdown",
   "metadata": {},
   "source": [
    "## Set Up Directories For Output"
   ]
  },
  {
   "cell_type": "code",
   "execution_count": 8,
   "metadata": {},
   "outputs": [],
   "source": [
    "make_dir_safely(PIPELINE_DIR)\n",
    "make_dir_safely(TMP_DIR)\n",
    "make_dir_safely(STORE_DIR)\n",
    "\n",
    "make_dir_safely(OUT_DIR)\n",
    "make_dir_safely(OUT_DIR + 'raw_samples/')\n",
    "make_dir_safely(OUT_DIR + 'interpolation/')"
   ]
  },
  {
   "cell_type": "markdown",
   "metadata": {},
   "source": [
    "## Load Model"
   ]
  },
  {
   "cell_type": "code",
   "execution_count": 9,
   "metadata": {},
   "outputs": [
    {
     "name": "stdout",
     "output_type": "stream",
     "text": [
      "WARNING:tensorflow:From D:\\x\\Anaconda3\\envs\\tf_gpu\\lib\\site-packages\\tensorflow\\python\\ops\\resource_variable_ops.py:435: colocate_with (from tensorflow.python.framework.ops) is deprecated and will be removed in a future version.\n",
      "Instructions for updating:\n",
      "Colocations handled automatically by placer.\n"
     ]
    }
   ],
   "source": [
    "G = load_model(G_MODEL_PATH)"
   ]
  },
  {
   "cell_type": "markdown",
   "metadata": {},
   "source": [
    "## Plot images"
   ]
  },
  {
   "cell_type": "code",
   "execution_count": 10,
   "metadata": {},
   "outputs": [
    {
     "name": "stderr",
     "output_type": "stream",
     "text": [
      "D:\\x\\Anaconda3\\envs\\tf_gpu\\lib\\site-packages\\ipykernel_launcher.py:28: DeprecationWarning: `toimage` is deprecated!\n",
      "`toimage` is deprecated in SciPy 1.0.0, and will be removed in 1.2.0.\n",
      "Use Pillow's ``Image.fromarray`` directly instead.\n"
     ]
    }
   ],
   "source": [
    "for i in range(10):\n",
    "    noise = get_noise(36, LATENT_DIM)\n",
    "    ims = G.predict(noise)\n",
    "    plot_images(ims, '{}raw_samples/sample.{:02d}.png'.format(OUT_DIR, i+1), lim=6)"
   ]
  },
  {
   "cell_type": "code",
   "execution_count": 11,
   "metadata": {},
   "outputs": [
    {
     "name": "stderr",
     "output_type": "stream",
     "text": [
      "D:\\x\\Anaconda3\\envs\\tf_gpu\\lib\\site-packages\\ipykernel_launcher.py:28: DeprecationWarning: `toimage` is deprecated!\n",
      "`toimage` is deprecated in SciPy 1.0.0, and will be removed in 1.2.0.\n",
      "Use Pillow's ``Image.fromarray`` directly instead.\n"
     ]
    },
    {
     "name": "stdout",
     "output_type": "stream",
     "text": [
      "0\n",
      "0\n",
      "0\n",
      "0\n",
      "0\n",
      "0\n",
      "0\n",
      "0\n",
      "0\n",
      "0\n"
     ]
    }
   ],
   "source": [
    "import shutil\n",
    "temp_interpolate_path = TMP_DIR + 'interpolate/'\n",
    "scale = 30\n",
    "num = 10\n",
    "\n",
    "for i in range(10):\n",
    "    if os.path.exists(temp_interpolate_path):\n",
    "        shutil.rmtree(temp_interpolate_path)\n",
    "    make_dir_safely(temp_interpolate_path)\n",
    "    vecs = get_noise(num, LATENT_DIM)\n",
    "    vecs = np.concatenate([vecs, vecs[0:1]])\n",
    "    \n",
    "    interps = np.zeros((num*scale+1, LATENT_DIM))\n",
    "    for j in range(num):\n",
    "        interps[(j)*scale:(j+1)*scale+1:] = np.linspace(vecs[j], vecs[j+1], scale+1)\n",
    "    interps = interps[:-1]\n",
    "    #print(interps[-0], '\\n', interps[-2], '\\n', interps[-1])\n",
    "    ims = G.predict(interps)\n",
    "    for j in range(ims.shape[0]):\n",
    "        plot_images(ims[j:j+1], '{}im.{:03d}.png'.format(temp_interpolate_path, j), lim=1)\n",
    "    command = ('ffmpeg -i ' + \n",
    "              temp_interpolate_path + 'im.%03d.png -r 30 ' \n",
    "              + OUT_DIR + 'interpolation/sample_' + str(i) + '_interp.gif')\n",
    "    print(os.system(command))\n",
    "\n",
    "shutil.rmtree(temp_interpolate_path)\n",
    "\n",
    "    "
   ]
  },
  {
   "cell_type": "code",
   "execution_count": null,
   "metadata": {},
   "outputs": [],
   "source": []
  }
 ],
 "metadata": {
  "kernelspec": {
   "display_name": "Python [conda env:tf_gpu]",
   "language": "python",
   "name": "conda-env-tf_gpu-py"
  },
  "language_info": {
   "codemirror_mode": {
    "name": "ipython",
    "version": 3
   },
   "file_extension": ".py",
   "mimetype": "text/x-python",
   "name": "python",
   "nbconvert_exporter": "python",
   "pygments_lexer": "ipython3",
   "version": "3.7.3"
  }
 },
 "nbformat": 4,
 "nbformat_minor": 2
}
